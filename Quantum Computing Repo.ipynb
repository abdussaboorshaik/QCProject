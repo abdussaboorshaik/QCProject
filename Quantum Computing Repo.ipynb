{
 "cells": [
  {
   "cell_type": "code",
<<<<<<< HEAD
   "execution_count": null,
   "id": "b1a3a055",
   "metadata": {},
   "outputs": [],
   "source": []
=======
   "execution_count": 1,
   "source": [
    "print(\"hello world\")\n",
    "#hello can you see this new change\n",
    "# please write your name just to make sure we can all edit this"
    "#Abdus"

   ],
   "outputs": [
    {
     "output_type": "stream",
     "name": "stdout",
     "text": [
      "hello world\n"
     ]
    }
   ],
   "metadata": {}
>>>>>>> 9d89839d754929d6eefe60a413bb0dcdbfaf69ad
  }
 ],
 "metadata": {
  "kernelspec": {
   "display_name": "Python 3 (ipykernel)",
   "language": "python",
   "name": "python3"
  },
  "language_info": {
<<<<<<< HEAD
=======
   "name": "python",
   "version": "3.9.12",
   "mimetype": "text/x-python",
>>>>>>> 9d89839d754929d6eefe60a413bb0dcdbfaf69ad
   "codemirror_mode": {
    "name": "ipython",
    "version": 3
   },
<<<<<<< HEAD
   "file_extension": ".py",
   "mimetype": "text/x-python",
   "name": "python",
   "nbconvert_exporter": "python",
   "pygments_lexer": "ipython3",
   "version": "3.9.17"
=======
   "pygments_lexer": "ipython3",
   "nbconvert_exporter": "python",
   "file_extension": ".py"
  },
  "kernelspec": {
   "name": "python3",
   "display_name": "Python 3.9.12 64-bit ('base': conda)"
  },
  "interpreter": {
   "hash": "ed9264bd804eca024caa153aedf17f90535f1149313d01304d206fc3aaf3875b"
>>>>>>> 9d89839d754929d6eefe60a413bb0dcdbfaf69ad
  }
 },
 "nbformat": 4,
 "nbformat_minor": 5
}
